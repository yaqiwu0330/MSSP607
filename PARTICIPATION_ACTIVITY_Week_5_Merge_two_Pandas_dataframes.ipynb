{
  "nbformat": 4,
  "nbformat_minor": 0,
  "metadata": {
    "colab": {
      "provenance": []
    },
    "kernelspec": {
      "name": "python3",
      "display_name": "Python 3"
    },
    "language_info": {
      "name": "python"
    }
  },
  "cells": [
    {
      "cell_type": "code",
      "source": [
        "from google.colab import drive\n",
        "drive.mount('/content/drive')"
      ],
      "metadata": {
        "id": "_R4vLy6wmvYE"
      },
      "execution_count": null,
      "outputs": []
    },
    {
      "cell_type": "code",
      "source": [
        "import pandas as pd\n",
        "aapl_df = pd.read_csv('/content/drive/MyDrive/MSSP-607/Week 05 Examples/aapl.csv')\n",
        "amzn_df = pd.read_csv('/content/drive/MyDrive/MSSP-607/Week 05 Examples/amzn.csv')\n",
        "fb_df = pd.read_csv('/content/drive/MyDrive/MSSP-607/Week 05 Examples/fb.csv')\n",
        "goog_df = pd.read_csv('/content/drive/MyDrive/MSSP-607/Week 05 Examples/goog.csv')\n",
        "nflx_df = pd.read_csv('/content/drive/MyDrive/MSSP-607/Week 05 Examples/nflx.csv')\n",
        "aapl_df.head(), amzn_df.head(), fb_df.head(), goog_df.head(), nflx_df.head()"
      ],
      "metadata": {
        "id": "RczL78Y93h1-"
      },
      "execution_count": null,
      "outputs": []
    },
    {
      "cell_type": "code",
      "source": [
        "aapl_df['ticker'] = 'AAPL'\n",
        "amzn_df['ticker'] = 'AMZN'\n",
        "fb_df['ticker'] = 'FB'\n",
        "goog_df['ticker'] = 'GOOG'\n",
        "nflx_df['ticker'] = 'NFLX'\n",
        "aapl_df.head(), amzn_df.head(), fb_df.head(), goog_df.head(), nflx_df.head()"
      ],
      "metadata": {
        "id": "ZhJEyd_D4NkC"
      },
      "execution_count": null,
      "outputs": []
    },
    {
      "cell_type": "code",
      "source": [
        "combined_df = pd.concat([aapl_df, amzn_df, fb_df, goog_df, nflx_df], ignore_index=True)\n",
        "combined_df"
      ],
      "metadata": {
        "id": "E7n2bl_I4-yR"
      },
      "execution_count": null,
      "outputs": []
    },
    {
      "cell_type": "code",
      "source": [
        "combined_csv_path = '/content/drive/MyDrive/MSSP-607/Week 05 Examples/faanf.csv'\n",
        "combined_df.to_csv(combined_csv_path, index=False)\n",
        "combined_csv_path"
      ],
      "metadata": {
        "id": "7O9z0Nyh5ehq"
      },
      "execution_count": null,
      "outputs": []
    },
    {
      "cell_type": "code",
      "source": [
        "fanng_df = pd.read_csv(combined_csv_path)\n",
        "fanng_df['date'] = pd.to_datetime(fanng_df['date'])\n",
        "fanng_df['volume'] = fanng_df['volume'].astype(int)\n",
        "fanng_df_sorted = fanng_df.sort_values(by=['date', 'ticker'])\n",
        "fanng_df.head()"
      ],
      "metadata": {
        "id": "QWBLbyUm9mOP"
      },
      "execution_count": null,
      "outputs": []
    },
    {
      "cell_type": "code",
      "source": [
        "top_volume_rows = fanng_df.nlargest(7, 'volume')\n",
        "print(top_volume_rows)"
      ],
      "metadata": {
        "id": "ao7BB6Vc-J7E"
      },
      "execution_count": null,
      "outputs": []
    },
    {
      "cell_type": "code",
      "source": [
        "melt_df = pd.melt(fanng_df, id_vars=['date', 'ticker'], value_vars=['open', 'high', 'low', 'close', 'volume'])\n",
        "melt_df.head()"
      ],
      "metadata": {
        "id": "Qr4gmpV8-qvY"
      },
      "execution_count": null,
      "outputs": []
    }
  ]
}